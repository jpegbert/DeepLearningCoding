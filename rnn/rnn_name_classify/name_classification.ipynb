{
 "cells": [
  {
   "cell_type": "markdown",
   "metadata": {},
   "source": [
    "## 导入模块"
   ]
  },
  {
   "cell_type": "code",
   "execution_count": 5,
   "metadata": {},
   "outputs": [],
   "source": [
    "from __future__ import unicode_literals, print_function, division\n",
    "from io import open\n",
    "import glob\n",
    "import os"
   ]
  },
  {
   "cell_type": "code",
   "execution_count": 9,
   "metadata": {},
   "outputs": [
    {
     "name": "stdout",
     "output_type": "stream",
     "text": [
      " Volume in drive D is New Volume\n",
      " Volume Serial Number is 4AD5-03DA\n",
      "\n",
      " Directory of D:\\Downloads\\wechat\n",
      "\n",
      "06/17/2020  03:28 PM    <DIR>          .\n",
      "06/17/2020  03:28 PM    <DIR>          ..\n",
      "06/17/2020  03:14 PM    <DIR>          .ipynb_checkpoints\n",
      "06/17/2020  03:04 PM    <DIR>          name_classification\n",
      "06/17/2020  03:28 PM             2,245 name_classification.ipynb\n",
      "06/17/2020  12:58 AM            11,543 RNN.ipynb\n",
      "               2 File(s)         13,788 bytes\n",
      "               4 Dir(s)  396,096,294,912 bytes free\n"
     ]
    }
   ],
   "source": [
    "!dir"
   ]
  },
  {
   "cell_type": "markdown",
   "metadata": {},
   "source": [
    "## 定义函数 "
   ]
  },
  {
   "cell_type": "raw",
   "metadata": {},
   "source": [
    "定义函数介绍：\n",
    "glob模块：这里使用的glob模块是python自带的一个文件操作相关模块，\n",
    "用他可以查找符合自己目的的文件，类似于Windows下的文件搜索，支持\n",
    "通配符操作（在计算机或软件技术中，通配符可以用于代替单个或多个字\n",
    "符。通常的，星号‘*’匹配0个或以上的字符，问号‘？’匹配一个字符，\n",
    "[]匹配指定范围内的数字，如[0-9]匹配数字）。\n",
    "glob方法：glob模块的主要方法就是glob，该方法返回所有匹配的文件路径\n",
    "列表；该方法需要用一个参数用来指定匹配的路径字符串（字符串可以为\n",
    "绝对路径也可以为相对路径），其返回的文件名只包括当前目录里的文件名，\n",
    "不包括子文件夹的文件。"
   ]
  },
  {
   "cell_type": "code",
   "execution_count": 10,
   "metadata": {},
   "outputs": [
    {
     "name": "stdout",
     "output_type": "stream",
     "text": [
      "['name_classification/data/names\\\\Arabic.txt', 'name_classification/data/names\\\\Chinese.txt', 'name_classification/data/names\\\\Czech.txt', 'name_classification/data/names\\\\Dutch.txt', 'name_classification/data/names\\\\English.txt', 'name_classification/data/names\\\\French.txt', 'name_classification/data/names\\\\German.txt', 'name_classification/data/names\\\\Greek.txt', 'name_classification/data/names\\\\Irish.txt', 'name_classification/data/names\\\\Italian.txt', 'name_classification/data/names\\\\Japanese.txt', 'name_classification/data/names\\\\Korean.txt', 'name_classification/data/names\\\\Polish.txt', 'name_classification/data/names\\\\Portuguese.txt', 'name_classification/data/names\\\\Russian.txt', 'name_classification/data/names\\\\Scottish.txt', 'name_classification/data/names\\\\Spanish.txt', 'name_classification/data/names\\\\Vietnamese.txt']\n"
     ]
    }
   ],
   "source": [
    "def findFiles(path): return glob.glob(path)\n",
    "print(findFiles('name_classification/data/names/*.txt'))"
   ]
  },
  {
   "cell_type": "markdown",
   "metadata": {},
   "source": [
    "## 将Unicode字符转化成纯ASCII码 "
   ]
  },
  {
   "cell_type": "code",
   "execution_count": 11,
   "metadata": {},
   "outputs": [],
   "source": [
    "import unicodedata\n",
    "import string"
   ]
  },
  {
   "cell_type": "code",
   "execution_count": 12,
   "metadata": {},
   "outputs": [],
   "source": [
    "all_letters = string.ascii_letters + \" .,;'\"\n",
    "n_letters = len(all_letters)"
   ]
  },
  {
   "cell_type": "code",
   "execution_count": 13,
   "metadata": {},
   "outputs": [],
   "source": [
    "# 定义将Unicode字符串转化成纯ASCII码的函数\n",
    "def unicodeToAscii(s):\n",
    "    return ''.join(\n",
    "        c for c in unicodedata.normalize('NFD', s)\n",
    "        if unicodedata.category(c) != 'Mn'\n",
    "        and c in all_letters\n",
    "    )"
   ]
  },
  {
   "cell_type": "code",
   "execution_count": 14,
   "metadata": {},
   "outputs": [
    {
     "name": "stdout",
     "output_type": "stream",
     "text": [
      "Slusarski\n"
     ]
    }
   ],
   "source": [
    "print(unicodeToAscii('Ślusàrski'))"
   ]
  },
  {
   "cell_type": "raw",
   "metadata": {},
   "source": [
    "Unicode，ASCII和UTF-8的区别和联系？\n",
    "这是一个字符编码的问题，间的来说就是在编码各国文字的时候，\n",
    "每个国家的编码方式不一样。最早是由美国制定的一套字符编码，\n",
    "对英语与二进制之间的关系，做了统一的规定。这被称为ASCII码，\n",
    "并且一直沿用至今。但问题是世界上存在着多种编码方式，同一个\n",
    "二进制数字可以被解释成不同的符号。为了给世界上所有的符号都\n",
    "给予一个独一无二的编码，研发出了Unicode。\n",
    "互联网的普及，强烈要求出现一种统一的编码方式，UTF-8就是在\n",
    "互联网上使用最广的一种Unicode的实现方式。"
   ]
  },
  {
   "cell_type": "code",
   "execution_count": 21,
   "metadata": {},
   "outputs": [
    {
     "name": "stdout",
     "output_type": "stream",
     "text": [
      "['Abandonato', 'Abatangelo', 'Abatantuono', 'Abate', 'Abategiovanni']\n"
     ]
    }
   ],
   "source": [
    "# 建立category_lines 字典，每一种语言的姓氏列表\n",
    "category_lines = {}\n",
    "all_categories = []\n",
    "\n",
    "# 定义函数：读一个文件，并分成行\n",
    "def readLines(filename):\n",
    "    lines = open(filename, encoding='utf-8').read().strip().split('\\n')\n",
    "    return [unicodeToAscii(line) for line in lines]\n",
    "\n",
    "for filename in findFiles('name_classification/data/names/*.txt'):\n",
    "    category = os.path.splitext(os.path.basename(filename))[0]\n",
    "    all_categories.append(category)\n",
    "    lines = readLines(filename)\n",
    "    category_lines[category] = lines\n",
    "    \n",
    "n_categories = len(all_categories)\n",
    "\n",
    "# 输出前五个意大利的姓氏\n",
    "print(category_lines['Italian'][:5])"
   ]
  },
  {
   "cell_type": "markdown",
   "metadata": {},
   "source": [
    "## 使用独热编码（one-hot vector）将姓氏转化成张量（Tensors）"
   ]
  },
  {
   "cell_type": "raw",
   "metadata": {},
   "source": [
    "我们有了姓氏的字典，我们需要将其转化成为张量Tensors来使用它。\n",
    "我们使用大小为<1 * n_letters>的独热编码（one-hot vector）来\n",
    "表示一个简单的字母。一个独热编码向量的只有在当前字母的下标\n",
    "编码为1，其他的都为0。比如‘b’= <0 1 0 0 0 . . .>。\n",
    "为了表示一个单词，将这些向量合并起来形成一个二维的矩阵。\n",
    "额外的1维是因为PyTorch假设所有内容都是批量的-我们在这里只\n",
    "使用1的批量大小。"
   ]
  },
  {
   "cell_type": "code",
   "execution_count": 27,
   "metadata": {},
   "outputs": [
    {
     "name": "stdout",
     "output_type": "stream",
     "text": [
      "tensor([[0., 0., 0., 0., 0., 0., 0., 0., 0., 0., 0., 0., 0., 0., 0., 0., 0., 0.,\n",
      "         0., 0., 0., 0., 0., 0., 0., 0., 0., 0., 0., 0., 0., 0., 0., 0., 0., 1.,\n",
      "         0., 0., 0., 0., 0., 0., 0., 0., 0., 0., 0., 0., 0., 0., 0., 0., 0., 0.,\n",
      "         0., 0., 0.]])\n",
      "torch.Size([5, 1, 57])\n"
     ]
    }
   ],
   "source": [
    "import torch\n",
    "\n",
    "# 找到所有字母的下标，比如‘a’= 0\n",
    "def letterToIndex(letter):\n",
    "    return all_letters.find(letter)\n",
    "\n",
    "# 仅仅作为样例，将字母转化成为一个<1 * n_letters>大小的张量\n",
    "def letterToTensor(letter):\n",
    "    tensor = torch.zeros(1, n_letters)\n",
    "    tensor[0][letterToIndex(letter)] = 1\n",
    "    return tensor\n",
    "\n",
    "# 将一行转化成为形状为<line_length * 1 * n_letters>或者是\n",
    "# 一个独热编码的向量矩阵\n",
    "def lineToTensor(line):\n",
    "    tensor = torch.zeros(len(line), 1, n_letters)\n",
    "    for li, letter in enumerate(line):\n",
    "        tensor[li][0][letterToIndex(letter)] = 1\n",
    "    return tensor\n",
    "\n",
    "print(letterToTensor('J'))\n",
    "\n",
    "print(lineToTensor('Jones').size())"
   ]
  },
  {
   "cell_type": "markdown",
   "metadata": {},
   "source": [
    "## 创建一个RNN网络"
   ]
  },
  {
   "cell_type": "raw",
   "metadata": {},
   "source": [
    "pytorch中已经有写好的RNN方法，我们可以以一种很简洁的方法来创建一个RNN神经网络"
   ]
  },
  {
   "cell_type": "code",
   "execution_count": 29,
   "metadata": {},
   "outputs": [
    {
     "name": "stdout",
     "output_type": "stream",
     "text": [
      "57 128 18\n"
     ]
    }
   ],
   "source": [
    "import torch.nn as nn\n",
    "\n",
    "class RNN(nn.Module):\n",
    "    def __init__(self, input_size, hidden_size, output_size):\n",
    "        super(RNN, self).__init__()\n",
    "        \n",
    "        self.hidden_size = hidden_size\n",
    "        \n",
    "        self.i2h = nn.Linear(input_size + hidden_size, hidden_size)\n",
    "        self.i2o = nn.Linear(input_size + hidden_size, output_size)\n",
    "        self.softmax = nn.LogSoftmax(dim=1)\n",
    "        \n",
    "    def forward(self, input, hidden):\n",
    "        combined = torch.cat((input, hidden), 1)\n",
    "        hidden = self.i2h(combined)\n",
    "        output = self.i2o(combined)\n",
    "        output = self.softmax(output)\n",
    "        return output, hidden\n",
    "    \n",
    "    def initHidden(self):\n",
    "        return torch.zeros(1, self.hidden_size)\n",
    "    \n",
    "n_hidden = 128\n",
    "rnn = RNN(n_letters, n_hidden, n_categories)\n",
    "print(n_letters, n_hidden, n_categories)"
   ]
  },
  {
   "cell_type": "markdown",
   "metadata": {},
   "source": [
    "## 输入测试用例 "
   ]
  },
  {
   "cell_type": "raw",
   "metadata": {},
   "source": [
    "为了运行RNN网络中的某一步，我们需要输入当前字母的张量和初始的隐藏层（设定为0）.我们得到输出并的到输入下一个隐藏层的张量。"
   ]
  },
  {
   "cell_type": "code",
   "execution_count": 32,
   "metadata": {},
   "outputs": [
    {
     "name": "stdout",
     "output_type": "stream",
     "text": [
      "tensor([[-2.9956, -2.7920, -2.9005, -2.8569, -3.0309, -2.9180, -2.9116, -2.8723,\n",
      "         -2.8813, -2.8591, -2.9003, -2.9879, -2.9541, -2.8248, -2.9344, -2.7850,\n",
      "         -2.8697, -2.7946]], grad_fn=<LogSoftmaxBackward>) tensor([[-3.0044e-02,  1.4153e-02, -4.3966e-02,  2.2961e-02, -2.0384e-02,\n",
      "          4.9052e-02,  3.1285e-02,  3.6606e-02, -1.6559e-03, -4.4501e-02,\n",
      "          5.1951e-02,  8.7061e-02,  4.0251e-02, -8.3137e-02,  8.1600e-02,\n",
      "          1.0364e-01,  3.1485e-02, -3.8218e-02,  3.5633e-02, -9.1784e-02,\n",
      "         -9.6537e-05, -1.0995e-01,  2.4740e-02,  7.7045e-04, -3.9868e-02,\n",
      "         -4.7721e-02,  4.3520e-02,  3.0371e-02, -8.7427e-02, -8.3737e-02,\n",
      "          7.2497e-02, -1.3027e-01, -3.4511e-02, -9.1720e-03,  4.6176e-02,\n",
      "         -1.6985e-02,  4.1497e-03, -1.1186e-01,  4.4511e-02,  6.1517e-02,\n",
      "         -6.9737e-02,  7.4860e-02,  4.6895e-02,  4.7629e-02, -5.9640e-03,\n",
      "         -6.4043e-02,  7.9512e-02,  5.5259e-02, -6.3575e-02,  3.2227e-02,\n",
      "         -5.7525e-02, -4.1577e-02, -1.4798e-02, -4.5852e-02, -1.4949e-02,\n",
      "         -4.8460e-02,  6.5745e-02, -5.9358e-02,  6.5038e-02,  4.4087e-02,\n",
      "          1.0388e-02, -7.8601e-02,  6.7031e-02, -5.3549e-02, -3.6976e-02,\n",
      "          2.5132e-02,  1.3124e-01,  2.8589e-02,  7.8419e-03, -5.5387e-02,\n",
      "         -7.4571e-02,  1.7394e-02, -7.9464e-02, -4.9639e-02,  3.9489e-02,\n",
      "          8.0986e-02, -3.0210e-02, -3.6567e-03,  3.8814e-02, -3.3395e-02,\n",
      "          1.6117e-02, -3.0676e-02, -4.5131e-03, -1.3578e-02, -4.4870e-02,\n",
      "         -7.3633e-03,  7.6237e-02,  7.4556e-02,  7.6024e-02, -2.8917e-02,\n",
      "         -2.7140e-02, -5.4307e-02,  6.8266e-02, -1.9479e-02,  3.8792e-03,\n",
      "          7.8649e-02,  1.0646e-01, -1.0039e-01, -7.2931e-02,  5.1495e-02,\n",
      "          2.0397e-02, -1.2536e-01, -7.8824e-02, -2.0505e-02, -1.9297e-02,\n",
      "         -2.9951e-02, -9.6388e-03,  4.2918e-02,  4.5247e-03, -4.2189e-02,\n",
      "          1.2239e-01, -2.1621e-02,  1.2604e-01, -2.2288e-02, -1.8384e-02,\n",
      "         -3.4321e-03,  1.1007e-01,  4.8485e-02, -4.2812e-03, -4.7291e-02,\n",
      "          6.1552e-02,  1.3576e-01, -3.6203e-02,  3.4711e-03, -1.1385e-02,\n",
      "         -2.4795e-02, -5.9927e-02,  8.8239e-02]], grad_fn=<AddmmBackward>)\n"
     ]
    }
   ],
   "source": [
    "input = letterToTensor('A')\n",
    "hidden = torch.zeros(1, n_hidden)\n",
    "\n",
    "output, next_hidden = rnn(input, hidden)\n",
    "print(output, next_hidden)"
   ]
  },
  {
   "cell_type": "raw",
   "metadata": {},
   "source": [
    "为了提高效率，我们不想为每个步骤都创建一个新的Tensor，因此我们将使用lineToTensor而不是letterToTensor并使用切片。 可以通过预先计算一批张量来进一步优化。可以看到输出是一个<1 x n_categories>的张量。"
   ]
  },
  {
   "cell_type": "code",
   "execution_count": 36,
   "metadata": {},
   "outputs": [
    {
     "name": "stdout",
     "output_type": "stream",
     "text": [
      "tensor([[-2.9956, -2.7920, -2.9005, -2.8569, -3.0309, -2.9180, -2.9116, -2.8723,\n",
      "         -2.8813, -2.8591, -2.9003, -2.9879, -2.9541, -2.8248, -2.9344, -2.7850,\n",
      "         -2.8697, -2.7946]], grad_fn=<LogSoftmaxBackward>)\n"
     ]
    }
   ],
   "source": [
    "input = lineToTensor('Albert')\n",
    "hidden = torch.zeros(1, n_hidden)\n",
    "\n",
    "output, next_hidden = rnn(input[0], hidden)\n",
    "print(output)"
   ]
  },
  {
   "cell_type": "markdown",
   "metadata": {},
   "source": [
    "## 准备训练RNN网络模型数据"
   ]
  },
  {
   "cell_type": "raw",
   "metadata": {},
   "source": [
    "在训练RNN模型之前，我们将使用一些有帮助的函数。\n",
    "第一个函数就是网络的输出解释，我们将得知每一个类别的概率。\n",
    "我们可以使用Tensor.topk来获得最大值的下标。"
   ]
  },
  {
   "cell_type": "code",
   "execution_count": 37,
   "metadata": {},
   "outputs": [
    {
     "name": "stdout",
     "output_type": "stream",
     "text": [
      "('Scottish', 15)\n"
     ]
    }
   ],
   "source": [
    "def categoryFromOutput(output):\n",
    "    top_n, top_i = output.topk(1)\n",
    "    category_i = top_i[0].item()\n",
    "    return all_categories[category_i], category_i\n",
    "\n",
    "print(categoryFromOutput(output))"
   ]
  },
  {
   "cell_type": "raw",
   "metadata": {},
   "source": [
    "我们需要创建一个快速的方法来创建训练样例（姓氏和其语言）"
   ]
  },
  {
   "cell_type": "code",
   "execution_count": 38,
   "metadata": {},
   "outputs": [
    {
     "name": "stdout",
     "output_type": "stream",
     "text": [
      "category= Portuguese / line = Ferro\n",
      "category= Scottish / line = Jones\n",
      "category= Italian / line = Breda\n",
      "category= Japanese / line = Karamorita\n",
      "category= French / line = Marchand\n",
      "category= Irish / line = Fionn\n",
      "category= English / line = Carrington\n",
      "category= German / line = Trumbauer\n",
      "category= Chinese / line = Cai\n",
      "category= Irish / line = Peatain\n"
     ]
    }
   ],
   "source": [
    "import random\n",
    "\n",
    "def randomChoice(l):\n",
    "    return l[random.randint(0, len(l) - 1)]\n",
    "\n",
    "def randomTrainingExample():\n",
    "    category = randomChoice(all_categories)\n",
    "    line = randomChoice(category_lines[category])\n",
    "    category_tensor = torch.tensor([all_categories.index(category)], \n",
    "                                   dtype=torch.long)\n",
    "    line_tensor = lineToTensor(line)\n",
    "    return category, line, category_tensor, line_tensor\n",
    "\n",
    "for i in range(10):\n",
    "    category, line, category_tensor, line_tensor = randomTrainingExample()\n",
    "    print('category=', category, '/ line =', line)"
   ]
  },
  {
   "cell_type": "markdown",
   "metadata": {},
   "source": [
    "## 训练RNN网络模型 "
   ]
  },
  {
   "cell_type": "raw",
   "metadata": {},
   "source": [
    "我们要用很多的训练数据来训练RNN网络模型，并且让网络预测国家，根据预测的是否准确来\n",
    "调整模型参数。采用nn.NLLLoss作为损失函数，原因是RNN网络的最后一层是nn.LogSoftmax."
   ]
  },
  {
   "cell_type": "code",
   "execution_count": 39,
   "metadata": {},
   "outputs": [],
   "source": [
    "criterion = nn.NLLLoss()"
   ]
  },
  {
   "cell_type": "raw",
   "metadata": {},
   "source": [
    "每一次训练将会：\n",
    "·创建一个输入张量和目标张量\n",
    "·创造一个全0的初始隐藏状态\n",
    "·读取每个单词并且保持下一个字母的隐藏状态\n",
    "·将最后的预测输出和真是目标进行对照\n",
    "·反向传播\n",
    "·返回输出和损失值"
   ]
  },
  {
   "cell_type": "code",
   "execution_count": 46,
   "metadata": {},
   "outputs": [],
   "source": [
    "learning_rate = 0.005\n",
    "\n",
    "def train(category_tensor, line_tensor):\n",
    "    hidden = rnn.initHidden()\n",
    "    \n",
    "    rnn.zero_grad()\n",
    "    \n",
    "    for i in range(line_tensor.size()[0]):\n",
    "        output, hidden = rnn(line_tensor[i], hidden)\n",
    "        \n",
    "    loss = criterion(output, category_tensor)\n",
    "    loss.backward()\n",
    "    \n",
    "    for p in rnn.parameters():\n",
    "        p.data.add_(p.grad.data, alpha=-learning_rate)\n",
    "        \n",
    "    return output, loss.item()"
   ]
  },
  {
   "cell_type": "raw",
   "metadata": {},
   "source": [
    "我们现在只需要将数据放入模型中进行训练。因为train函数将会返回输出和损失，我们可以将其预测结果打印出来并且画出损失函数的曲线。我们将只打印损失函数的平均值。"
   ]
  },
  {
   "cell_type": "code",
   "execution_count": 47,
   "metadata": {},
   "outputs": [
    {
     "name": "stdout",
     "output_type": "stream",
     "text": [
      "5000 5% (0m 9s) 2.4218 Nascimbene / Dutch ✗ (Italian)\n",
      "10000 10% (0m 20s) 1.1312 Antopolsky / Russian ✓\n",
      "15000 15% (0m 30s) 4.0684 Close / Scottish ✗ (Greek)\n",
      "20000 20% (0m 40s) 0.5049 You / Korean ✓\n",
      "25000 25% (0m 51s) 1.7926 Faure / Arabic ✗ (French)\n",
      "30000 30% (1m 1s) 1.9056 Narita / Portuguese ✗ (Japanese)\n",
      "35000 35% (1m 12s) 0.6025 Poniros / Greek ✓\n",
      "40000 40% (1m 23s) 1.9508 Tsai  / Arabic ✗ (Korean)\n",
      "45000 45% (1m 34s) 0.6777 Ribeiro / Portuguese ✓\n",
      "50000 50% (1m 45s) 1.2969 Seelen / Dutch ✓\n",
      "55000 55% (1m 57s) 2.0344 Russel / German ✗ (English)\n",
      "60000 60% (2m 8s) 0.9086 Lambert / French ✓\n",
      "65000 65% (2m 19s) 0.4696 Ta / Vietnamese ✓\n",
      "70000 70% (2m 30s) 0.7405 an / Vietnamese ✓\n",
      "75000 75% (2m 42s) 1.4717 Peeters / Portuguese ✗ (Dutch)\n",
      "80000 80% (2m 55s) 0.0589 Janowski / Polish ✓\n",
      "85000 85% (3m 6s) 2.9837 Blanc / Scottish ✗ (French)\n",
      "90000 90% (3m 19s) 0.1685 Kruger / German ✓\n",
      "95000 95% (3m 31s) 0.8876 San / Chinese ✗ (Korean)\n",
      "100000 100% (3m 44s) 0.0061 Bukowski / Polish ✓\n"
     ]
    }
   ],
   "source": [
    "import time\n",
    "import math\n",
    "\n",
    "n_iters = 100000\n",
    "print_every = 5000\n",
    "plot_every = 1000\n",
    "\n",
    "# 记录loss的值用于画损失曲线\n",
    "current_loss = 0\n",
    "all_loss = []\n",
    "\n",
    "def timeSince(since):\n",
    "    now = time.time()\n",
    "    s = now - since\n",
    "    m = math.floor(s / 60)\n",
    "    s -= m * 60\n",
    "    return '%dm %ds' % (m, s)\n",
    "\n",
    "start = time.time()\n",
    "\n",
    "for iter in range(1, n_iters + 1):\n",
    "    category, line, category_tensor, line_tensor = randomTrainingExample()\n",
    "    output, loss = train(category_tensor, line_tensor)\n",
    "    current_loss += loss\n",
    "    \n",
    "    if iter % print_every == 0:\n",
    "        guess, guess_i = categoryFromOutput(output)\n",
    "        correct = '✓' if guess == category else '✗ (%s)' % category\n",
    "        print('%d %d%% (%s) %.4f %s / %s %s' % (iter, iter / n_iters * 100,\n",
    "                                                timeSince(start),\n",
    "                                                loss, line,guess, correct))\n",
    "    if iter % plot_every == 0:\n",
    "        all_loss.append(current_loss / plot_every)\n",
    "        current_loss = 0"
   ]
  },
  {
   "cell_type": "markdown",
   "metadata": {},
   "source": [
    "## 结果可视化 "
   ]
  },
  {
   "cell_type": "code",
   "execution_count": 52,
   "metadata": {},
   "outputs": [
    {
     "data": {
      "text/plain": [
       "[<matplotlib.lines.Line2D at 0x21f1690c508>]"
      ]
     },
     "execution_count": 52,
     "metadata": {},
     "output_type": "execute_result"
    },
    {
     "data": {
      "image/png": "[encoded data removed]",
      "text/plain": [
       "<Figure size 432x288 with 1 Axes>"
      ]
     },
     "metadata": {
      "needs_background": "light"
     },
     "output_type": "display_data"
    }
   ],
   "source": [
    "import matplotlib.pyplot as plt\n",
    "import matplotlib.ticker as ticker\n",
    "\n",
    "plt.figure()\n",
    "plt.plot(all_loss)"
   ]
  },
  {
   "cell_type": "code",
   "execution_count": 53,
   "metadata": {},
   "outputs": [
    {
     "data": {
      "image/png": "[encoded data removed]",
      "text/plain": [
       "<Figure size 432x288 with 2 Axes>"
      ]
     },
     "metadata": {
      "needs_background": "light"
     },
     "output_type": "display_data"
    }
   ],
   "source": [
    "confusion = torch.zeros(n_categories, n_categories)\n",
    "n_confusion = 10000\n",
    "\n",
    "def evaluate(line_tensor):\n",
    "    hidden = rnn.initHidden()\n",
    "    \n",
    "    for i in range(line_tensor.size()[0]):\n",
    "        output, hidden = rnn(line_tensor[i], hidden)  \n",
    "    return output\n",
    "\n",
    "for i in range(n_confusion):\n",
    "    category, line, category_tensor, line_tensor = randomTrainingExample()\n",
    "    output = evaluate(line_tensor)\n",
    "    guess, guess_i = categoryFromOutput(output)\n",
    "    category_i = all_categories.index(category)\n",
    "    confusion[category_i][guess_i] += 1\n",
    "    \n",
    "for i in range(n_categories):\n",
    "    confusion[i] = confusion[i] / confusion[i].sum()\n",
    "    \n",
    "fig = plt.figure()\n",
    "ax = fig.add_subplot(111)\n",
    "cax = ax.matshow(confusion.numpy())\n",
    "fig.colorbar(cax)\n",
    "\n",
    "ax.set_xticklabels([''] + all_categories, rotation=90)\n",
    "ax.set_yticklabels([''] + all_categories)\n",
    "\n",
    "ax.xaxis.set_major_locator(ticker.MultipleLocator(1))\n",
    "ax.yaxis.set_major_locator(ticker.MultipleLocator(1))\n",
    "\n",
    "plt.show()"
   ]
  },
  {
   "cell_type": "markdown",
   "metadata": {},
   "source": [
    "## 自己输入姓氏进行判读"
   ]
  },
  {
   "cell_type": "code",
   "execution_count": 54,
   "metadata": {},
   "outputs": [],
   "source": [
    "def predict(input_line, n_predictions = 3):\n",
    "    print('\\n> %s' % input_line)\n",
    "    with torch.no_grad():\n",
    "        output = evaluate(lineToTensor(input_line))\n",
    "        \n",
    "        topv, topi = output.topk(n_predictions, 1, True)\n",
    "        predictions = []\n",
    "        \n",
    "        for i in range(n_predictions):\n",
    "            value = topv[0][i].item()\n",
    "            category_index = topi[0][i].item()\n",
    "            print('(%.2f) %s' % (value, all_categories[category_index]))\n",
    "            predictions.append([value, all_categories[category_index]])"
   ]
  },
  {
   "cell_type": "code",
   "execution_count": 60,
   "metadata": {},
   "outputs": [
    {
     "name": "stdout",
     "output_type": "stream",
     "text": [
      "\n",
      "> kang\n",
      "(-1.18) German\n",
      "(-1.52) Chinese\n",
      "(-1.93) Dutch\n",
      "\n",
      "> zhao\n",
      "(-1.75) Chinese\n",
      "(-1.98) Japanese\n",
      "(-2.18) Russian\n",
      "\n",
      "> liang\n",
      "(-1.40) German\n",
      "(-1.98) English\n",
      "(-2.32) Chinese\n"
     ]
    }
   ],
   "source": [
    "predict('kang')\n",
    "predict('zhao')\n",
    "predict('liang')"
   ]
  }
 ],
 "metadata": {
  "kernelspec": {
   "display_name": "Python 3.7.4 64-bit",
   "language": "python",
   "name": "python37464bitc683d231fed04dff881c0e6c82bf3684"
  },
  "language_info": {
   "codemirror_mode": {
    "name": "ipython",
    "version": 3
   },
   "file_extension": ".py",
   "mimetype": "text/x-python",
   "name": "python",
   "nbconvert_exporter": "python",
   "pygments_lexer": "ipython3",
   "version": "3.7.4"
  },
  "toc": {
   "base_numbering": 1.0,
   "nav_menu": {},
   "number_sections": true,
   "sideBar": true,
   "skip_h1_title": false,
   "title_cell": "Table of Contents",
   "title_sidebar": "Contents",
   "toc_cell": false,
   "toc_position": {},
   "toc_section_display": true,
   "toc_window_display": false
  }
 },
 "nbformat": 4,
 "nbformat_minor": 4
}
